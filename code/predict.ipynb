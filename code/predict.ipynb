{
 "cells": [
  {
   "cell_type": "code",
   "execution_count": 1,
   "metadata": {},
   "outputs": [
    {
     "name": "stderr",
     "output_type": "stream",
     "text": [
      "/home/whlin/anaconda3/envs/ADL_hw2/lib/python3.9/site-packages/tqdm/auto.py:21: TqdmWarning: IProgress not found. Please update jupyter and ipywidgets. See https://ipywidgets.readthedocs.io/en/stable/user_install.html\n",
      "  from .autonotebook import tqdm as notebook_tqdm\n",
      "2023-10-27 13:51:12.447070: E tensorflow/compiler/xla/stream_executor/cuda/cuda_dnn.cc:9342] Unable to register cuDNN factory: Attempting to register factory for plugin cuDNN when one has already been registered\n",
      "2023-10-27 13:51:12.447094: E tensorflow/compiler/xla/stream_executor/cuda/cuda_fft.cc:609] Unable to register cuFFT factory: Attempting to register factory for plugin cuFFT when one has already been registered\n",
      "2023-10-27 13:51:12.447111: E tensorflow/compiler/xla/stream_executor/cuda/cuda_blas.cc:1518] Unable to register cuBLAS factory: Attempting to register factory for plugin cuBLAS when one has already been registered\n",
      "2023-10-27 13:51:12.451857: I tensorflow/core/platform/cpu_feature_guard.cc:182] This TensorFlow binary is optimized to use available CPU instructions in performance-critical operations.\n",
      "To enable the following instructions: AVX2 FMA, in other operations, rebuild TensorFlow with the appropriate compiler flags.\n"
     ]
    }
   ],
   "source": [
    "import argparse\n",
    "import json\n",
    "import logging\n",
    "import math\n",
    "import os\n",
    "import random\n",
    "from pathlib import Path\n",
    "\n",
    "import datasets\n",
    "import evaluate\n",
    "import nltk\n",
    "import numpy as np\n",
    "import torch\n",
    "from accelerate import Accelerator\n",
    "from accelerate.logging import get_logger\n",
    "from accelerate.utils import set_seed\n",
    "from datasets import load_dataset\n",
    "from filelock import FileLock\n",
    "from huggingface_hub import Repository, create_repo\n",
    "from torch.utils.data import DataLoader\n",
    "from tqdm.auto import tqdm\n",
    "\n",
    "import transformers\n",
    "from transformers import (\n",
    "    CONFIG_MAPPING,\n",
    "    MODEL_MAPPING,\n",
    "    AutoConfig,\n",
    "    AutoModelForSeq2SeqLM,\n",
    "    AutoTokenizer,\n",
    "    DataCollatorForSeq2Seq,\n",
    "    SchedulerType,\n",
    "    get_scheduler,\n",
    ")"
   ]
  },
  {
   "cell_type": "code",
   "execution_count": 2,
   "metadata": {},
   "outputs": [
    {
     "name": "stdout",
     "output_type": "stream",
     "text": [
      "summary_model_path:  /nfs/nas-6.1/whlin/ADL/ADL23-HW2/checkpoint/google_mt5_small_3e-4/checkpoint-23202\n"
     ]
    },
    {
     "name": "stderr",
     "output_type": "stream",
     "text": [
      "  0%|          | 0/3 [00:00<?, ?it/s]You're using a T5TokenizerFast tokenizer. Please note that with a fast tokenizer, using the `__call__` method is faster than using a method to encode the text followed by a call to the `pad` method to get a padded encoding.\n",
      "100%|██████████| 3/3 [00:01<00:00,  2.17it/s]\n"
     ]
    }
   ],
   "source": [
    "model_path = \"/nfs/nas-6.1/whlin/ADL/ADL23-HW2/checkpoint/google_mt5_small_3e-4/checkpoint-23202\"\n",
    "\n",
    "print(\"summary_model_path: \", model_path)\n",
    "# -------------------------- prepare dataset\n",
    "\n",
    "# load raw dataset\n",
    "raw_datasets = load_dataset(\"json\", data_files={\"test\": \"../data/public.jsonl\"})\n",
    "raw_datasets[\"test\"] = raw_datasets[\"test\"].select(range(10))\n",
    "\n",
    "# load tokenizer\n",
    "tokenizer = AutoTokenizer.from_pretrained(model_path)\n",
    "model = AutoModelForSeq2SeqLM.from_pretrained(model_path)\n",
    "\n",
    "embedding_size = model.get_input_embeddings().weight.shape[0]\n",
    "if len(tokenizer) > embedding_size:\n",
    "    model.resize_token_embeddings(len(tokenizer))\n",
    "if model.config.decoder_start_token_id is None:\n",
    "    raise ValueError(\"Make sure that `config.decoder_start_token_id` is correctly defined\")\n",
    "\n",
    "prefix = \"summarize: \"\n",
    "\n",
    "\n",
    "max_target_length = 64\n",
    "column_names = raw_datasets[\"test\"].column_names\n",
    "\n",
    "padding = False\n",
    "text_column = \"maintext\"\n",
    "summary_column = \"title\"\n",
    "\n",
    "def preprocess_function(examples):\n",
    "    inputs = examples[text_column]\n",
    "    inputs = [prefix + inp for inp in inputs]\n",
    "    model_inputs = tokenizer(inputs, max_length=384, padding=padding, truncation=True)\n",
    "\n",
    "    return model_inputs\n",
    "\n",
    "def postprocess_text(preds):\n",
    "    preds = [pred.strip() for pred in preds]\n",
    "    preds = [\"\\n\".join(nltk.sent_tokenize(pred)) for pred in preds]\n",
    "    return preds\n",
    "\n",
    "\n",
    "test_dataset = raw_datasets[\"test\"].map(\n",
    "    preprocess_function,\n",
    "    batched=True,\n",
    "    remove_columns=column_names,\n",
    "    desc=\"Running tokenizer on dataset\",\n",
    ")\n",
    "\n",
    "\n",
    "label_pad_token_id = -100 \n",
    "data_collator = DataCollatorForSeq2Seq(\n",
    "    tokenizer,\n",
    "    model=model,\n",
    "    label_pad_token_id=label_pad_token_id,\n",
    "    pad_to_multiple_of=None,\n",
    ")\n",
    "\n",
    "test_dataloader = DataLoader(test_dataset, collate_fn=data_collator, batch_size=4)\n",
    "\n",
    "# ----------------- prepare model --------------\n",
    "# load model\n",
    "device = torch.device(\"cuda\") if torch.cuda.is_available() else torch.device(\"cpu\");\n",
    "model.to(device)\n",
    "# model, test_dataloader = accelerator.prepare(model, test_dataloader)\n",
    "\n",
    "# --------------- predict ---------------\n",
    "model.eval()\n",
    "\n",
    "gen_kwargs = {\n",
    "    \"max_length\": 64,\n",
    "    \"num_beams\": 1,\n",
    "}\n",
    "\n",
    "all_prediction = list()\n",
    "for batch in tqdm(test_dataloader):\n",
    "    batch = {k: v.to(device) for k, v in batch.items()}\n",
    "\n",
    "    with torch.no_grad():\n",
    "        generated_tokens = model.generate(\n",
    "            batch[\"input_ids\"],\n",
    "            attention_mask=batch[\"attention_mask\"],\n",
    "            **gen_kwargs,\n",
    "        )\n",
    "\n",
    "        generated_tokens = generated_tokens.detach().cpu().numpy()\n",
    "        decoded_preds = tokenizer.batch_decode(generated_tokens, skip_special_tokens=True)\n",
    "\n",
    "        decoded_preds= postprocess_text(decoded_preds)\n",
    "        all_prediction.extend(decoded_preds)"
   ]
  },
  {
   "cell_type": "code",
   "execution_count": 3,
   "metadata": {},
   "outputs": [
    {
     "name": "stdout",
     "output_type": "stream",
     "text": [
      "['Anker新款真無線藍牙耳機 確定引進台灣市場', '全台最熱門鐵道自行車!\\n三條「最美C路線」 加碼親子旅遊推薦', '華碩推出換上Intel第11代Core處理器 Chromebook Flip CX5 擴展企業應用需求', '新冠肺炎疫情改變產業發展 從供應端看產業轉型', '微軟:全球僅有15億裝置 但仍有超過1億台', '台幣貶值轉換到明年?', '美國網購平台上架「哈台馬克杯」 網友熱銷1萬件、亞馬遜網購平台還賣到缺貨', '華碩更新雙螢幕筆電、ZenBook Duo 14、Pro Duo 15OLED 增加更自然操作需求', '週末炸雞加酒!\\n臺虎推「周末炸雞俱樂部」 首款炸物專門啤酒', 'NBA/曾被交易到籃網 紐媒爆料厄文「未爆彈」']\n"
     ]
    }
   ],
   "source": [
    "print(all_prediction)"
   ]
  },
  {
   "cell_type": "code",
   "execution_count": 21,
   "metadata": {},
   "outputs": [],
   "source": [
    "import pandas as pd"
   ]
  },
  {
   "cell_type": "code",
   "execution_count": 23,
   "metadata": {},
   "outputs": [],
   "source": [
    "df = pd.DataFrame(list(zip(raw_datasets['test']['id'], all_prediction)),\n",
    "            columns =['id', 'title'])"
   ]
  },
  {
   "cell_type": "code",
   "execution_count": 24,
   "metadata": {},
   "outputs": [
    {
     "data": {
      "text/html": [
       "<div>\n",
       "<style scoped>\n",
       "    .dataframe tbody tr th:only-of-type {\n",
       "        vertical-align: middle;\n",
       "    }\n",
       "\n",
       "    .dataframe tbody tr th {\n",
       "        vertical-align: top;\n",
       "    }\n",
       "\n",
       "    .dataframe thead th {\n",
       "        text-align: right;\n",
       "    }\n",
       "</style>\n",
       "<table border=\"1\" class=\"dataframe\">\n",
       "  <thead>\n",
       "    <tr style=\"text-align: right;\">\n",
       "      <th></th>\n",
       "      <th>id</th>\n",
       "      <th>title</th>\n",
       "    </tr>\n",
       "  </thead>\n",
       "  <tbody>\n",
       "    <tr>\n",
       "      <th>0</th>\n",
       "      <td>21710</td>\n",
       "      <td>Anker新款真無線藍牙耳機 確定引進台灣市場</td>\n",
       "    </tr>\n",
       "    <tr>\n",
       "      <th>1</th>\n",
       "      <td>21711</td>\n",
       "      <td>全台最熱門鐵道自行車!\\n三條「最美C路線」 加碼親子旅遊推薦</td>\n",
       "    </tr>\n",
       "    <tr>\n",
       "      <th>2</th>\n",
       "      <td>21712</td>\n",
       "      <td>華碩推出換上Intel第11代Core處理器 Chromebook Flip CX5 擴展企...</td>\n",
       "    </tr>\n",
       "    <tr>\n",
       "      <th>3</th>\n",
       "      <td>21713</td>\n",
       "      <td>新冠肺炎疫情改變產業發展 從供應端看產業轉型</td>\n",
       "    </tr>\n",
       "    <tr>\n",
       "      <th>4</th>\n",
       "      <td>21714</td>\n",
       "      <td>微軟:全球僅有15億裝置 但仍有超過1億台</td>\n",
       "    </tr>\n",
       "    <tr>\n",
       "      <th>5</th>\n",
       "      <td>21715</td>\n",
       "      <td>台幣貶值轉換到明年?</td>\n",
       "    </tr>\n",
       "    <tr>\n",
       "      <th>6</th>\n",
       "      <td>21716</td>\n",
       "      <td>美國網購平台上架「哈台馬克杯」 網友熱銷1萬件、亞馬遜網購平台還賣到缺貨</td>\n",
       "    </tr>\n",
       "    <tr>\n",
       "      <th>7</th>\n",
       "      <td>21717</td>\n",
       "      <td>華碩更新雙螢幕筆電、ZenBook Duo 14、Pro Duo 15OLED 增加更自然操作需求</td>\n",
       "    </tr>\n",
       "    <tr>\n",
       "      <th>8</th>\n",
       "      <td>21718</td>\n",
       "      <td>週末炸雞加酒!\\n臺虎推「周末炸雞俱樂部」 首款炸物專門啤酒</td>\n",
       "    </tr>\n",
       "    <tr>\n",
       "      <th>9</th>\n",
       "      <td>21719</td>\n",
       "      <td>NBA/曾被交易到籃網 紐媒爆料厄文「未爆彈」</td>\n",
       "    </tr>\n",
       "  </tbody>\n",
       "</table>\n",
       "</div>"
      ],
      "text/plain": [
       "      id                                              title\n",
       "0  21710                            Anker新款真無線藍牙耳機 確定引進台灣市場\n",
       "1  21711                    全台最熱門鐵道自行車!\\n三條「最美C路線」 加碼親子旅遊推薦\n",
       "2  21712  華碩推出換上Intel第11代Core處理器 Chromebook Flip CX5 擴展企...\n",
       "3  21713                             新冠肺炎疫情改變產業發展 從供應端看產業轉型\n",
       "4  21714                              微軟:全球僅有15億裝置 但仍有超過1億台\n",
       "5  21715                                         台幣貶值轉換到明年?\n",
       "6  21716               美國網購平台上架「哈台馬克杯」 網友熱銷1萬件、亞馬遜網購平台還賣到缺貨\n",
       "7  21717  華碩更新雙螢幕筆電、ZenBook Duo 14、Pro Duo 15OLED 增加更自然操作需求\n",
       "8  21718                     週末炸雞加酒!\\n臺虎推「周末炸雞俱樂部」 首款炸物專門啤酒\n",
       "9  21719                            NBA/曾被交易到籃網 紐媒爆料厄文「未爆彈」"
      ]
     },
     "execution_count": 24,
     "metadata": {},
     "output_type": "execute_result"
    }
   ],
   "source": [
    "df"
   ]
  }
 ],
 "metadata": {
  "kernelspec": {
   "display_name": "ADL_hw1",
   "language": "python",
   "name": "python3"
  },
  "language_info": {
   "codemirror_mode": {
    "name": "ipython",
    "version": 3
   },
   "file_extension": ".py",
   "mimetype": "text/x-python",
   "name": "python",
   "nbconvert_exporter": "python",
   "pygments_lexer": "ipython3",
   "version": "3.9.18"
  }
 },
 "nbformat": 4,
 "nbformat_minor": 2
}
