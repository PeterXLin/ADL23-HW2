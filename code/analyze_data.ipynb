{
 "cells": [
  {
   "cell_type": "code",
   "execution_count": 1,
   "metadata": {},
   "outputs": [
    {
     "name": "stderr",
     "output_type": "stream",
     "text": [
      "Matplotlib created a temporary cache directory at /tmp/matplotlib-to459idq because the default path (/home/whlin/.config/matplotlib) is not a writable directory; it is highly recommended to set the MPLCONFIGDIR environment variable to a writable directory, in particular to speed up the import of Matplotlib and to better support multiprocessing.\n"
     ]
    }
   ],
   "source": [
    "import pandas as pd\n",
    "import seaborn as sns\n",
    "import matplotlib.pyplot as plt\n"
   ]
  },
  {
   "cell_type": "code",
   "execution_count": 2,
   "metadata": {},
   "outputs": [],
   "source": [
    "train_df = pd.read_json(\"../data/train.jsonl\", lines = True)"
   ]
  },
  {
   "cell_type": "code",
   "execution_count": 3,
   "metadata": {},
   "outputs": [
    {
     "data": {
      "text/html": [
       "<div>\n",
       "<style scoped>\n",
       "    .dataframe tbody tr th:only-of-type {\n",
       "        vertical-align: middle;\n",
       "    }\n",
       "\n",
       "    .dataframe tbody tr th {\n",
       "        vertical-align: top;\n",
       "    }\n",
       "\n",
       "    .dataframe thead th {\n",
       "        text-align: right;\n",
       "    }\n",
       "</style>\n",
       "<table border=\"1\" class=\"dataframe\">\n",
       "  <thead>\n",
       "    <tr style=\"text-align: right;\">\n",
       "      <th></th>\n",
       "      <th>date_publish</th>\n",
       "      <th>title</th>\n",
       "      <th>source_domain</th>\n",
       "      <th>maintext</th>\n",
       "      <th>split</th>\n",
       "      <th>id</th>\n",
       "    </tr>\n",
       "  </thead>\n",
       "  <tbody>\n",
       "    <tr>\n",
       "      <th>0</th>\n",
       "      <td>2015-03-02 00:00:00</td>\n",
       "      <td>榜首進台大醫科卻休學 、27歲拿到法國天文博士 李悅寧跌破眾人眼鏡返台任教</td>\n",
       "      <td>udn.com</td>\n",
       "      <td>從小就很會念書的李悅寧， 在眾人殷殷期盼下，以榜首之姿進入臺大醫學院， 但始終忘不了對天文的...</td>\n",
       "      <td>train</td>\n",
       "      <td>0</td>\n",
       "    </tr>\n",
       "    <tr>\n",
       "      <th>1</th>\n",
       "      <td>2015-10-20 00:00:00</td>\n",
       "      <td>「猩人」真有其事？人猿混種曾成功受孕 揭秘前蘇聯可怕實驗</td>\n",
       "      <td>udn.com</td>\n",
       "      <td>人類與猩猩混種誕下後代，不一定僅限於科幻電影情節。前蘇聯科學家早在1920年代以人工授精技術...</td>\n",
       "      <td>train</td>\n",
       "      <td>1</td>\n",
       "    </tr>\n",
       "    <tr>\n",
       "      <th>2</th>\n",
       "      <td>2015-12-10 00:00:00</td>\n",
       "      <td>跑步小品／謝謝三浦春馬 再次喚醒我對跑步的熱情</td>\n",
       "      <td>udn.com</td>\n",
       "      <td>從得知三浦春馬離世的消息那刻開始，心中頓時感到很鬱悶，那種很驚訝、很可惜、很無奈的感覺很重很...</td>\n",
       "      <td>train</td>\n",
       "      <td>2</td>\n",
       "    </tr>\n",
       "    <tr>\n",
       "      <th>3</th>\n",
       "      <td>2016-04-22 00:00:00</td>\n",
       "      <td>【身體不適特輯（下）】「拉肚子」、「想吐」、「嘔吐」英文怎麼說？</td>\n",
       "      <td>udn.com</td>\n",
       "      <td>嗨，歡迎回到【身體不適特輯】的下集，在這集裡，小編會繼續講自己食物中毒的故事，以及介紹各種症...</td>\n",
       "      <td>train</td>\n",
       "      <td>3</td>\n",
       "    </tr>\n",
       "    <tr>\n",
       "      <th>4</th>\n",
       "      <td>2016-04-29 00:00:00</td>\n",
       "      <td>中職／球彈、好球帶小 投手被打趴百害無一利</td>\n",
       "      <td>udn.com</td>\n",
       "      <td>今年中華職棒官辦熱身賽眾家打者真的打瘋了！數據顯示，官辦熱身賽打了20場，竟然出現多達66轟...</td>\n",
       "      <td>train</td>\n",
       "      <td>4</td>\n",
       "    </tr>\n",
       "    <tr>\n",
       "      <th>...</th>\n",
       "      <td>...</td>\n",
       "      <td>...</td>\n",
       "      <td>...</td>\n",
       "      <td>...</td>\n",
       "      <td>...</td>\n",
       "      <td>...</td>\n",
       "    </tr>\n",
       "    <tr>\n",
       "      <th>21705</th>\n",
       "      <td>2021-01-13 14:52:07</td>\n",
       "      <td>TDDI IC需求大 手機用年成長8.6％ 平板電腦46.2％</td>\n",
       "      <td>udn.com</td>\n",
       "      <td>根據TrendForce旗下顯示器研究處表示，預期在2021年手機市場回溫下，TDDI IC...</td>\n",
       "      <td>train</td>\n",
       "      <td>21705</td>\n",
       "    </tr>\n",
       "    <tr>\n",
       "      <th>21706</th>\n",
       "      <td>2021-01-13 17:31:06</td>\n",
       "      <td>挪威電信與合勤科技合作進行5G部署計畫</td>\n",
       "      <td>udn.com</td>\n",
       "      <td>合勤科技今天正式宣布，北歐挪威電信 (Telenor) 採用合勤 5G NR 戶外型路由器 ...</td>\n",
       "      <td>train</td>\n",
       "      <td>21706</td>\n",
       "    </tr>\n",
       "    <tr>\n",
       "      <th>21707</th>\n",
       "      <td>2021-01-13 18:00:09</td>\n",
       "      <td>Gowin最新邊緣運算解決方案 採華邦高速記憶體裝置</td>\n",
       "      <td>udn.com</td>\n",
       "      <td>華邦電子（2344）今（13）日宣佈FPGA製造商Gowin將在其最新GoAI 2.0機器學...</td>\n",
       "      <td>train</td>\n",
       "      <td>21707</td>\n",
       "    </tr>\n",
       "    <tr>\n",
       "      <th>21708</th>\n",
       "      <td>2021-01-13 20:25:06</td>\n",
       "      <td>CES線上大展 LG發表新筆電搶遠距工作商機</td>\n",
       "      <td>udn.com</td>\n",
       "      <td>LG電子於2021年美國消費性電子展（CES）線上大展推出新款gram系列筆記型電腦，螢幕採...</td>\n",
       "      <td>train</td>\n",
       "      <td>21708</td>\n",
       "    </tr>\n",
       "    <tr>\n",
       "      <th>21709</th>\n",
       "      <td>2021-01-13 23:04:12</td>\n",
       "      <td>特斯拉公司副總裁陶琳：Model Y本月將開始陸續交付</td>\n",
       "      <td>udn.com</td>\n",
       "      <td>特斯拉公司副總裁陶琳13日在微博發文，Model Y 將於本月開始陸續交付。市場傳出，新車價...</td>\n",
       "      <td>train</td>\n",
       "      <td>21709</td>\n",
       "    </tr>\n",
       "  </tbody>\n",
       "</table>\n",
       "<p>21710 rows × 6 columns</p>\n",
       "</div>"
      ],
      "text/plain": [
       "              date_publish                                  title  \\\n",
       "0      2015-03-02 00:00:00  榜首進台大醫科卻休學 、27歲拿到法國天文博士 李悅寧跌破眾人眼鏡返台任教   \n",
       "1      2015-10-20 00:00:00           「猩人」真有其事？人猿混種曾成功受孕 揭秘前蘇聯可怕實驗   \n",
       "2      2015-12-10 00:00:00                跑步小品／謝謝三浦春馬 再次喚醒我對跑步的熱情   \n",
       "3      2016-04-22 00:00:00       【身體不適特輯（下）】「拉肚子」、「想吐」、「嘔吐」英文怎麼說？   \n",
       "4      2016-04-29 00:00:00                  中職／球彈、好球帶小 投手被打趴百害無一利   \n",
       "...                    ...                                    ...   \n",
       "21705  2021-01-13 14:52:07        TDDI IC需求大 手機用年成長8.6％ 平板電腦46.2％   \n",
       "21706  2021-01-13 17:31:06                    挪威電信與合勤科技合作進行5G部署計畫   \n",
       "21707  2021-01-13 18:00:09             Gowin最新邊緣運算解決方案 採華邦高速記憶體裝置   \n",
       "21708  2021-01-13 20:25:06                 CES線上大展 LG發表新筆電搶遠距工作商機   \n",
       "21709  2021-01-13 23:04:12            特斯拉公司副總裁陶琳：Model Y本月將開始陸續交付   \n",
       "\n",
       "      source_domain                                           maintext  split  \\\n",
       "0           udn.com  從小就很會念書的李悅寧， 在眾人殷殷期盼下，以榜首之姿進入臺大醫學院， 但始終忘不了對天文的...  train   \n",
       "1           udn.com  人類與猩猩混種誕下後代，不一定僅限於科幻電影情節。前蘇聯科學家早在1920年代以人工授精技術...  train   \n",
       "2           udn.com  從得知三浦春馬離世的消息那刻開始，心中頓時感到很鬱悶，那種很驚訝、很可惜、很無奈的感覺很重很...  train   \n",
       "3           udn.com  嗨，歡迎回到【身體不適特輯】的下集，在這集裡，小編會繼續講自己食物中毒的故事，以及介紹各種症...  train   \n",
       "4           udn.com  今年中華職棒官辦熱身賽眾家打者真的打瘋了！數據顯示，官辦熱身賽打了20場，竟然出現多達66轟...  train   \n",
       "...             ...                                                ...    ...   \n",
       "21705       udn.com  根據TrendForce旗下顯示器研究處表示，預期在2021年手機市場回溫下，TDDI IC...  train   \n",
       "21706       udn.com  合勤科技今天正式宣布，北歐挪威電信 (Telenor) 採用合勤 5G NR 戶外型路由器 ...  train   \n",
       "21707       udn.com  華邦電子（2344）今（13）日宣佈FPGA製造商Gowin將在其最新GoAI 2.0機器學...  train   \n",
       "21708       udn.com  LG電子於2021年美國消費性電子展（CES）線上大展推出新款gram系列筆記型電腦，螢幕採...  train   \n",
       "21709       udn.com  特斯拉公司副總裁陶琳13日在微博發文，Model Y 將於本月開始陸續交付。市場傳出，新車價...  train   \n",
       "\n",
       "          id  \n",
       "0          0  \n",
       "1          1  \n",
       "2          2  \n",
       "3          3  \n",
       "4          4  \n",
       "...      ...  \n",
       "21705  21705  \n",
       "21706  21706  \n",
       "21707  21707  \n",
       "21708  21708  \n",
       "21709  21709  \n",
       "\n",
       "[21710 rows x 6 columns]"
      ]
     },
     "execution_count": 3,
     "metadata": {},
     "output_type": "execute_result"
    }
   ],
   "source": [
    "train_df"
   ]
  },
  {
   "cell_type": "code",
   "execution_count": 4,
   "metadata": {},
   "outputs": [
    {
     "data": {
      "text/plain": [
       "date_publish                                   2015-03-02 00:00:00\n",
       "title                        榜首進台大醫科卻休學 、27歲拿到法國天文博士 李悅寧跌破眾人眼鏡返台任教\n",
       "source_domain                                              udn.com\n",
       "maintext         從小就很會念書的李悅寧， 在眾人殷殷期盼下，以榜首之姿進入臺大醫學院， 但始終忘不了對天文的...\n",
       "split                                                        train\n",
       "id                                                               0\n",
       "Name: 0, dtype: object"
      ]
     },
     "execution_count": 4,
     "metadata": {},
     "output_type": "execute_result"
    }
   ],
   "source": [
    "train_df.iloc[0]"
   ]
  },
  {
   "cell_type": "code",
   "execution_count": 5,
   "metadata": {},
   "outputs": [
    {
     "name": "stdout",
     "output_type": "stream",
     "text": [
      "['udn.com']\n",
      "['train']\n"
     ]
    }
   ],
   "source": [
    "print(train_df.source_domain.unique())\n",
    "print(train_df.split.unique())"
   ]
  },
  {
   "cell_type": "markdown",
   "metadata": {},
   "source": [
    "# Text length"
   ]
  },
  {
   "cell_type": "code",
   "execution_count": 6,
   "metadata": {},
   "outputs": [],
   "source": [
    "train_df['title_length'] = train_df.apply(lambda x: len(x['title']), axis=1)\n",
    "train_df['maintext_length'] = train_df.apply(lambda x: len(x['maintext']), axis = 1)\n"
   ]
  },
  {
   "cell_type": "code",
   "execution_count": 7,
   "metadata": {},
   "outputs": [
    {
     "name": "stdout",
     "output_type": "stream",
     "text": [
      "25.68825426070935\n",
      "1436.1695532012898\n",
      "51.0\n",
      "4762.749999999996\n"
     ]
    }
   ],
   "source": [
    "print(train_df['title_length'].mean())\n",
    "print(train_df['maintext_length'].mean())\n",
    "print(train_df['title_length'].quantile(.995))\n",
    "print(train_df['maintext_length'].quantile(.99))"
   ]
  },
  {
   "cell_type": "code",
   "execution_count": 8,
   "metadata": {},
   "outputs": [
    {
     "name": "stderr",
     "output_type": "stream",
     "text": [
      "/home/whlin/anaconda3/envs/ADL_hw1/lib/python3.9/site-packages/seaborn/_oldcore.py:1498: FutureWarning: is_categorical_dtype is deprecated and will be removed in a future version. Use isinstance(dtype, CategoricalDtype) instead\n",
      "  if pd.api.types.is_categorical_dtype(vector):\n",
      "/home/whlin/anaconda3/envs/ADL_hw1/lib/python3.9/site-packages/seaborn/_oldcore.py:1498: FutureWarning: is_categorical_dtype is deprecated and will be removed in a future version. Use isinstance(dtype, CategoricalDtype) instead\n",
      "  if pd.api.types.is_categorical_dtype(vector):\n",
      "/home/whlin/anaconda3/envs/ADL_hw1/lib/python3.9/site-packages/seaborn/_oldcore.py:1498: FutureWarning: is_categorical_dtype is deprecated and will be removed in a future version. Use isinstance(dtype, CategoricalDtype) instead\n",
      "  if pd.api.types.is_categorical_dtype(vector):\n",
      "/home/whlin/anaconda3/envs/ADL_hw1/lib/python3.9/site-packages/seaborn/_oldcore.py:1498: FutureWarning: is_categorical_dtype is deprecated and will be removed in a future version. Use isinstance(dtype, CategoricalDtype) instead\n",
      "  if pd.api.types.is_categorical_dtype(vector):\n",
      "/home/whlin/anaconda3/envs/ADL_hw1/lib/python3.9/site-packages/seaborn/_oldcore.py:1498: FutureWarning: is_categorical_dtype is deprecated and will be removed in a future version. Use isinstance(dtype, CategoricalDtype) instead\n",
      "  if pd.api.types.is_categorical_dtype(vector):\n",
      "/home/whlin/anaconda3/envs/ADL_hw1/lib/python3.9/site-packages/seaborn/_oldcore.py:1119: FutureWarning: use_inf_as_na option is deprecated and will be removed in a future version. Convert inf values to NaN before operating instead.\n",
      "  with pd.option_context('mode.use_inf_as_na', True):\n",
      "/home/whlin/anaconda3/envs/ADL_hw1/lib/python3.9/site-packages/seaborn/axisgrid.py:118: UserWarning: The figure layout has changed to tight\n",
      "  self._figure.tight_layout(*args, **kwargs)\n",
      "/home/whlin/anaconda3/envs/ADL_hw1/lib/python3.9/site-packages/seaborn/_oldcore.py:1498: FutureWarning: is_categorical_dtype is deprecated and will be removed in a future version. Use isinstance(dtype, CategoricalDtype) instead\n",
      "  if pd.api.types.is_categorical_dtype(vector):\n",
      "/home/whlin/anaconda3/envs/ADL_hw1/lib/python3.9/site-packages/seaborn/_oldcore.py:1498: FutureWarning: is_categorical_dtype is deprecated and will be removed in a future version. Use isinstance(dtype, CategoricalDtype) instead\n",
      "  if pd.api.types.is_categorical_dtype(vector):\n",
      "/home/whlin/anaconda3/envs/ADL_hw1/lib/python3.9/site-packages/seaborn/_oldcore.py:1498: FutureWarning: is_categorical_dtype is deprecated and will be removed in a future version. Use isinstance(dtype, CategoricalDtype) instead\n",
      "  if pd.api.types.is_categorical_dtype(vector):\n",
      "/home/whlin/anaconda3/envs/ADL_hw1/lib/python3.9/site-packages/seaborn/_oldcore.py:1498: FutureWarning: is_categorical_dtype is deprecated and will be removed in a future version. Use isinstance(dtype, CategoricalDtype) instead\n",
      "  if pd.api.types.is_categorical_dtype(vector):\n",
      "/home/whlin/anaconda3/envs/ADL_hw1/lib/python3.9/site-packages/seaborn/_oldcore.py:1498: FutureWarning: is_categorical_dtype is deprecated and will be removed in a future version. Use isinstance(dtype, CategoricalDtype) instead\n",
      "  if pd.api.types.is_categorical_dtype(vector):\n",
      "/home/whlin/anaconda3/envs/ADL_hw1/lib/python3.9/site-packages/seaborn/_oldcore.py:1119: FutureWarning: use_inf_as_na option is deprecated and will be removed in a future version. Convert inf values to NaN before operating instead.\n",
      "  with pd.option_context('mode.use_inf_as_na', True):\n",
      "/home/whlin/anaconda3/envs/ADL_hw1/lib/python3.9/site-packages/seaborn/axisgrid.py:118: UserWarning: The figure layout has changed to tight\n",
      "  self._figure.tight_layout(*args, **kwargs)\n"
     ]
    },
    {
     "data": {
      "text/plain": [
       "<Figure size 500x500 with 0 Axes>"
      ]
     },
     "metadata": {},
     "output_type": "display_data"
    },
    {
     "data": {
      "image/png": "[encoded data removed]",
      "text/plain": [
       "<Figure size 628.5x500 with 1 Axes>"
      ]
     },
     "metadata": {},
     "output_type": "display_data"
    },
    {
     "data": {
      "text/plain": [
       "<Figure size 500x500 with 0 Axes>"
      ]
     },
     "metadata": {},
     "output_type": "display_data"
    },
    {
     "data": {
      "image/png": "[encoded data removed]",
      "text/plain": [
       "<Figure size 663.5x500 with 1 Axes>"
      ]
     },
     "metadata": {},
     "output_type": "display_data"
    }
   ],
   "source": [
    "for column in ['title_length', 'maintext_length']:\n",
    "    plt.figure(figsize = (5, 5))\n",
    "    sns.displot(train_df.loc[:, [column]], kind='ecdf')"
   ]
  },
  {
   "cell_type": "code",
   "execution_count": 10,
   "metadata": {},
   "outputs": [
    {
     "name": "stderr",
     "output_type": "stream",
     "text": [
      "/home/whlin/anaconda3/envs/ADL_hw1/lib/python3.9/site-packages/seaborn/_oldcore.py:1498: FutureWarning: is_categorical_dtype is deprecated and will be removed in a future version. Use isinstance(dtype, CategoricalDtype) instead\n",
      "  if pd.api.types.is_categorical_dtype(vector):\n",
      "/home/whlin/anaconda3/envs/ADL_hw1/lib/python3.9/site-packages/seaborn/_oldcore.py:1498: FutureWarning: is_categorical_dtype is deprecated and will be removed in a future version. Use isinstance(dtype, CategoricalDtype) instead\n",
      "  if pd.api.types.is_categorical_dtype(vector):\n",
      "/home/whlin/anaconda3/envs/ADL_hw1/lib/python3.9/site-packages/seaborn/_oldcore.py:1498: FutureWarning: is_categorical_dtype is deprecated and will be removed in a future version. Use isinstance(dtype, CategoricalDtype) instead\n",
      "  if pd.api.types.is_categorical_dtype(vector):\n",
      "/home/whlin/anaconda3/envs/ADL_hw1/lib/python3.9/site-packages/seaborn/_oldcore.py:1498: FutureWarning: is_categorical_dtype is deprecated and will be removed in a future version. Use isinstance(dtype, CategoricalDtype) instead\n",
      "  if pd.api.types.is_categorical_dtype(vector):\n",
      "/home/whlin/anaconda3/envs/ADL_hw1/lib/python3.9/site-packages/seaborn/_oldcore.py:1498: FutureWarning: is_categorical_dtype is deprecated and will be removed in a future version. Use isinstance(dtype, CategoricalDtype) instead\n",
      "  if pd.api.types.is_categorical_dtype(vector):\n",
      "/home/whlin/anaconda3/envs/ADL_hw1/lib/python3.9/site-packages/seaborn/_oldcore.py:1119: FutureWarning: use_inf_as_na option is deprecated and will be removed in a future version. Convert inf values to NaN before operating instead.\n",
      "  with pd.option_context('mode.use_inf_as_na', True):\n",
      "/home/whlin/anaconda3/envs/ADL_hw1/lib/python3.9/site-packages/seaborn/_oldcore.py:1498: FutureWarning: is_categorical_dtype is deprecated and will be removed in a future version. Use isinstance(dtype, CategoricalDtype) instead\n",
      "  if pd.api.types.is_categorical_dtype(vector):\n",
      "/home/whlin/anaconda3/envs/ADL_hw1/lib/python3.9/site-packages/seaborn/_oldcore.py:1498: FutureWarning: is_categorical_dtype is deprecated and will be removed in a future version. Use isinstance(dtype, CategoricalDtype) instead\n",
      "  if pd.api.types.is_categorical_dtype(vector):\n",
      "/home/whlin/anaconda3/envs/ADL_hw1/lib/python3.9/site-packages/seaborn/_oldcore.py:1498: FutureWarning: is_categorical_dtype is deprecated and will be removed in a future version. Use isinstance(dtype, CategoricalDtype) instead\n",
      "  if pd.api.types.is_categorical_dtype(vector):\n",
      "/home/whlin/anaconda3/envs/ADL_hw1/lib/python3.9/site-packages/seaborn/_oldcore.py:1498: FutureWarning: is_categorical_dtype is deprecated and will be removed in a future version. Use isinstance(dtype, CategoricalDtype) instead\n",
      "  if pd.api.types.is_categorical_dtype(vector):\n",
      "/home/whlin/anaconda3/envs/ADL_hw1/lib/python3.9/site-packages/seaborn/_oldcore.py:1498: FutureWarning: is_categorical_dtype is deprecated and will be removed in a future version. Use isinstance(dtype, CategoricalDtype) instead\n",
      "  if pd.api.types.is_categorical_dtype(vector):\n",
      "/home/whlin/anaconda3/envs/ADL_hw1/lib/python3.9/site-packages/seaborn/_oldcore.py:1119: FutureWarning: use_inf_as_na option is deprecated and will be removed in a future version. Convert inf values to NaN before operating instead.\n",
      "  with pd.option_context('mode.use_inf_as_na', True):\n"
     ]
    },
    {
     "data": {
      "image/png": "[encoded data removed]",
      "text/plain": [
       "<Figure size 500x500 with 1 Axes>"
      ]
     },
     "metadata": {},
     "output_type": "display_data"
    },
    {
     "data": {
      "image/png": "[encoded data removed]",
      "text/plain": [
       "<Figure size 500x500 with 1 Axes>"
      ]
     },
     "metadata": {},
     "output_type": "display_data"
    }
   ],
   "source": [
    "for column in ['title_length', 'maintext_length']:\n",
    "    plt.figure(figsize = (5, 5))\n",
    "    sns.histplot(train_df.loc[:, [column]])"
   ]
  },
  {
   "cell_type": "code",
   "execution_count": 3,
   "metadata": {},
   "outputs": [
    {
     "data": {
      "text/plain": [
       "[{'rouge-1': {'r': 1.0, 'p': 0.25, 'f': 0.39999999680000003},\n",
       "  'rouge-2': {'r': 0.0, 'p': 0.0, 'f': 0.0},\n",
       "  'rouge-l': {'r': 1.0, 'p': 0.25, 'f': 0.39999999680000003}}]"
      ]
     },
     "execution_count": 3,
     "metadata": {},
     "output_type": "execute_result"
    }
   ],
   "source": [
    "from rouge import Rouge\n",
    "rouge = Rouge()\n",
    "rouge.get_scores(' '.join(list('我perko是一哈哈哈，個人')), ' '.join(list('我是人'))) # hyps refs"
   ]
  },
  {
   "cell_type": "markdown",
   "metadata": {},
   "source": [
    "# 看每種長度的maintext會包含多少percent title裡面的字"
   ]
  },
  {
   "cell_type": "code",
   "execution_count": 6,
   "metadata": {},
   "outputs": [],
   "source": [
    "train_sample_df = train_df[:1000]"
   ]
  },
  {
   "cell_type": "code",
   "execution_count": 7,
   "metadata": {},
   "outputs": [
    {
     "name": "stderr",
     "output_type": "stream",
     "text": [
      "/tmp/ipykernel_46241/736605174.py:1: SettingWithCopyWarning: \n",
      "A value is trying to be set on a copy of a slice from a DataFrame.\n",
      "Try using .loc[row_indexer,col_indexer] = value instead\n",
      "\n",
      "See the caveats in the documentation: https://pandas.pydata.org/pandas-docs/stable/user_guide/indexing.html#returning-a-view-versus-a-copy\n",
      "  train_sample_df['title_for_matric'] = train_sample_df.apply(lambda x: ' '.join(list(x['title'])), axis=1)\n",
      "/tmp/ipykernel_46241/736605174.py:2: SettingWithCopyWarning: \n",
      "A value is trying to be set on a copy of a slice from a DataFrame.\n",
      "Try using .loc[row_indexer,col_indexer] = value instead\n",
      "\n",
      "See the caveats in the documentation: https://pandas.pydata.org/pandas-docs/stable/user_guide/indexing.html#returning-a-view-versus-a-copy\n",
      "  train_sample_df['maintext_for_matric_2048'] = train_sample_df.apply(lambda x: ' '.join(list(x['maintext'][:2048])), axis = 1)\n",
      "/tmp/ipykernel_46241/736605174.py:3: SettingWithCopyWarning: \n",
      "A value is trying to be set on a copy of a slice from a DataFrame.\n",
      "Try using .loc[row_indexer,col_indexer] = value instead\n",
      "\n",
      "See the caveats in the documentation: https://pandas.pydata.org/pandas-docs/stable/user_guide/indexing.html#returning-a-view-versus-a-copy\n",
      "  train_sample_df['maintext_for_matric_1024'] = train_sample_df.apply(lambda x: ' '.join(list(x['maintext'][:1024])), axis = 1)\n",
      "/tmp/ipykernel_46241/736605174.py:4: SettingWithCopyWarning: \n",
      "A value is trying to be set on a copy of a slice from a DataFrame.\n",
      "Try using .loc[row_indexer,col_indexer] = value instead\n",
      "\n",
      "See the caveats in the documentation: https://pandas.pydata.org/pandas-docs/stable/user_guide/indexing.html#returning-a-view-versus-a-copy\n",
      "  train_sample_df['maintext_for_matric_768'] = train_sample_df.apply(lambda x: ' '.join(list(x['maintext'][:768])), axis = 1)\n",
      "/tmp/ipykernel_46241/736605174.py:5: SettingWithCopyWarning: \n",
      "A value is trying to be set on a copy of a slice from a DataFrame.\n",
      "Try using .loc[row_indexer,col_indexer] = value instead\n",
      "\n",
      "See the caveats in the documentation: https://pandas.pydata.org/pandas-docs/stable/user_guide/indexing.html#returning-a-view-versus-a-copy\n",
      "  train_sample_df['maintext_for_matric_640'] = train_sample_df.apply(lambda x: ' '.join(list(x['maintext'][:640])), axis = 1)\n",
      "/tmp/ipykernel_46241/736605174.py:6: SettingWithCopyWarning: \n",
      "A value is trying to be set on a copy of a slice from a DataFrame.\n",
      "Try using .loc[row_indexer,col_indexer] = value instead\n",
      "\n",
      "See the caveats in the documentation: https://pandas.pydata.org/pandas-docs/stable/user_guide/indexing.html#returning-a-view-versus-a-copy\n",
      "  train_sample_df['maintext_for_matric_512'] = train_sample_df.apply(lambda x: ' '.join(list(x['maintext'][:512])), axis = 1)\n",
      "/tmp/ipykernel_46241/736605174.py:7: SettingWithCopyWarning: \n",
      "A value is trying to be set on a copy of a slice from a DataFrame.\n",
      "Try using .loc[row_indexer,col_indexer] = value instead\n",
      "\n",
      "See the caveats in the documentation: https://pandas.pydata.org/pandas-docs/stable/user_guide/indexing.html#returning-a-view-versus-a-copy\n",
      "  train_sample_df['maintext_for_matric_384'] = train_sample_df.apply(lambda x: ' '.join(list(x['maintext'][:384])), axis = 1)\n",
      "/tmp/ipykernel_46241/736605174.py:8: SettingWithCopyWarning: \n",
      "A value is trying to be set on a copy of a slice from a DataFrame.\n",
      "Try using .loc[row_indexer,col_indexer] = value instead\n",
      "\n",
      "See the caveats in the documentation: https://pandas.pydata.org/pandas-docs/stable/user_guide/indexing.html#returning-a-view-versus-a-copy\n",
      "  train_sample_df['maintext_for_matric_256'] = train_sample_df.apply(lambda x: ' '.join(list(x['maintext'][:256])), axis = 1)\n",
      "/tmp/ipykernel_46241/736605174.py:9: SettingWithCopyWarning: \n",
      "A value is trying to be set on a copy of a slice from a DataFrame.\n",
      "Try using .loc[row_indexer,col_indexer] = value instead\n",
      "\n",
      "See the caveats in the documentation: https://pandas.pydata.org/pandas-docs/stable/user_guide/indexing.html#returning-a-view-versus-a-copy\n",
      "  train_sample_df['maintext_for_matric_128'] = train_sample_df.apply(lambda x: ' '.join(list(x['maintext'][:128])), axis = 1)\n"
     ]
    }
   ],
   "source": [
    "train_sample_df['title_for_matric'] = train_sample_df.apply(lambda x: ' '.join(list(x['title'])), axis=1)\n",
    "train_sample_df['maintext_for_matric_2048'] = train_sample_df.apply(lambda x: ' '.join(list(x['maintext'][:2048])), axis = 1)\n",
    "train_sample_df['maintext_for_matric_1024'] = train_sample_df.apply(lambda x: ' '.join(list(x['maintext'][:1024])), axis = 1)\n",
    "train_sample_df['maintext_for_matric_768'] = train_sample_df.apply(lambda x: ' '.join(list(x['maintext'][:768])), axis = 1)\n",
    "train_sample_df['maintext_for_matric_640'] = train_sample_df.apply(lambda x: ' '.join(list(x['maintext'][:640])), axis = 1)\n",
    "train_sample_df['maintext_for_matric_512'] = train_sample_df.apply(lambda x: ' '.join(list(x['maintext'][:512])), axis = 1)\n",
    "train_sample_df['maintext_for_matric_384'] = train_sample_df.apply(lambda x: ' '.join(list(x['maintext'][:384])), axis = 1)\n",
    "train_sample_df['maintext_for_matric_256'] = train_sample_df.apply(lambda x: ' '.join(list(x['maintext'][:256])), axis = 1)\n",
    "train_sample_df['maintext_for_matric_128'] = train_sample_df.apply(lambda x: ' '.join(list(x['maintext'][:128])), axis = 1)"
   ]
  },
  {
   "cell_type": "code",
   "execution_count": 8,
   "metadata": {},
   "outputs": [
    {
     "name": "stdout",
     "output_type": "stream",
     "text": [
      "2048\n",
      "average rouge-1 {'r': 0.8686659631009506, 'p': 0.05702269854120812, 'f': 0.10535348168421589}\n",
      "average rouge-2 {'r': 0.5162820065745882, 'p': 0.018216678832354647, 'f': 0.03463447845466765}\n",
      "average rouge-l {'r': 0.7384935366227233, 'p': 0.048298610773574044, 'f': 0.08923531447755514}\n",
      "\n",
      "1024\n",
      "average rouge-1 {'r': 0.8314107621691877, 'p': 0.06299013374626256, 'f': 0.11577774245784385}\n",
      "average rouge-2 {'r': 0.4829757456353315, 'p': 0.020485740177457454, 'f': 0.03888001859700784}\n",
      "average rouge-l {'r': 0.6870681486082031, 'p': 0.052080436205921884, 'f': 0.09568533375897798}\n",
      "\n",
      "768\n",
      "average rouge-1 {'r': 0.806374982421948, 'p': 0.06847891248851108, 'f': 0.12496993800596802}\n",
      "average rouge-2 {'r': 0.46443411653451055, 'p': 0.022913877255857678, 'f': 0.043283630971586474}\n",
      "average rouge-l {'r': 0.6585527368887473, 'p': 0.05592720929165556, 'f': 0.10201407968091827}\n",
      "\n",
      "640\n",
      "average rouge-1 {'r': 0.785883998750392, 'p': 0.07316068763552754, 'f': 0.13254065526607806}\n",
      "average rouge-2 {'r': 0.4502129960355801, 'p': 0.02517140647810121, 'f': 0.047277438827845686}\n",
      "average rouge-l {'r': 0.6354490978047722, 'p': 0.05921984734654369, 'f': 0.10722057880321241}\n",
      "\n",
      "512\n",
      "average rouge-1 {'r': 0.759946713195514, 'p': 0.08043309233105049, 'f': 0.14396891539121331}\n",
      "average rouge-2 {'r': 0.43235464584541183, 'p': 0.028877937155444258, 'f': 0.053667017104509156}\n",
      "average rouge-l {'r': 0.6077503205236076, 'p': 0.06445866322880163, 'f': 0.11530057912882719}\n",
      "\n",
      "384\n",
      "average rouge-1 {'r': 0.7239860494140263, 'p': 0.0919976636607558, 'f': 0.16136519261855076}\n",
      "average rouge-2 {'r': 0.41226313081182403, 'p': 0.03538265937928599, 'f': 0.06449900500929735}\n",
      "average rouge-l {'r': 0.5740702398851527, 'p': 0.07304617760848509, 'f': 0.12803793814289113}\n",
      "\n",
      "256\n",
      "average rouge-1 {'r': 0.66778014616675, 'p': 0.11202797460767705, 'f': 0.18927693868137543}\n",
      "average rouge-2 {'r': 0.3826925112791678, 'p': 0.04745839597345769, 'f': 0.0833457394828133}\n",
      "average rouge-l {'r': 0.5252580760711685, 'p': 0.08809151372665532, 'f': 0.14873894589827003}\n",
      "\n",
      "128\n",
      "average rouge-1 {'r': 0.5389437344909793, 'p': 0.14957174824576538, 'f': 0.23018495473297676}\n",
      "average rouge-2 {'r': 0.3049081916926141, 'p': 0.07119362300322195, 'f': 0.11335272846210308}\n",
      "average rouge-l {'r': 0.4170660721255569, 'p': 0.11518902237539345, 'f': 0.1772893827833817}\n",
      "\n"
     ]
    }
   ],
   "source": [
    "for length in [\"2048\", \"1024\", \"768\", \"640\", \"512\", \"384\", \"256\", \"128\"]:\n",
    "    scores = rouge.get_scores(train_sample_df[\"maintext_for_matric_{}\".format(length)], train_sample_df[\"title_for_matric\".format(length)], avg=True)\n",
    "    print(length)\n",
    "    print(\"average rouge-1 {}\".format(scores['rouge-1']))\n",
    "    print(\"average rouge-2 {}\".format(scores['rouge-2']))\n",
    "    print(\"average rouge-l {}\".format(scores['rouge-l']))\n",
    "    print()"
   ]
  },
  {
   "cell_type": "markdown",
   "metadata": {},
   "source": [
    "# 看title 裡面有沒有\\n"
   ]
  },
  {
   "cell_type": "code",
   "execution_count": 6,
   "metadata": {},
   "outputs": [],
   "source": [
    "train_df['title_newline'] = train_df.apply(lambda x: \"\\n\" in x['title'], axis=1)"
   ]
  },
  {
   "cell_type": "code",
   "execution_count": 8,
   "metadata": {},
   "outputs": [
    {
     "data": {
      "text/plain": [
       "0"
      ]
     },
     "execution_count": 8,
     "metadata": {},
     "output_type": "execute_result"
    }
   ],
   "source": [
    "train_df[\"title_newline\"].sum()"
   ]
  },
  {
   "cell_type": "code",
   "execution_count": 9,
   "metadata": {},
   "outputs": [],
   "source": [
    "predict_df = pd.read_json(\"../data/predict_b.jsonl\", lines = True)"
   ]
  },
  {
   "cell_type": "code",
   "execution_count": 11,
   "metadata": {},
   "outputs": [],
   "source": [
    "predict_df['title_newline'] = predict_df.apply(lambda x: \"\\n\" in x['title'], axis=1)"
   ]
  },
  {
   "cell_type": "code",
   "execution_count": 12,
   "metadata": {},
   "outputs": [
    {
     "data": {
      "text/plain": [
       "252"
      ]
     },
     "execution_count": 12,
     "metadata": {},
     "output_type": "execute_result"
    }
   ],
   "source": [
    "predict_df[\"title_newline\"].sum()"
   ]
  },
  {
   "cell_type": "markdown",
   "metadata": {},
   "source": [
    "# Analyze prediction"
   ]
  },
  {
   "cell_type": "code",
   "execution_count": 4,
   "metadata": {},
   "outputs": [],
   "source": [
    "public_df = pd.read_json(\"../data/public.jsonl\", lines = True)"
   ]
  },
  {
   "cell_type": "code",
   "execution_count": 7,
   "metadata": {},
   "outputs": [
    {
     "data": {
      "text/plain": [
       "0               Anker新款真無線藍牙耳機Liberty Air 2 Pro 引進台灣市場\n",
       "1                        藍染、客家美食、舊山線自行車 「苗栗一日遊」超人氣美食美景\n",
       "2                  華碩打造對應軍規防護與2 in 1設計的15.6吋Chromebook\n",
       "3                                      產業發展變革 台灣的優勢與機會\n",
       "4                  全球Windows 7裝置粗估至少還有1億台以上 市佔率穩穩卡在20％\n",
       "5                                             強勢台幣理財攻略\n",
       "6                          「不需治療，只需到台灣！」 美國「哈台馬克杯」賣到缺貨\n",
       "7    ZenBook Duo 14、ZenBook Pro Duo 15 OLED更新 第二螢幕更...\n",
       "8                             不出國更要怒吃雞加酒！「周末炸虎俱樂部」限量開賣\n",
       "9                         NBA／紐約記者爆料厄文狀況 「不喜歡奈許、跟KD疏離」\n",
       "Name: title, dtype: object"
      ]
     },
     "execution_count": 7,
     "metadata": {},
     "output_type": "execute_result"
    }
   ],
   "source": [
    "public_df['title'][:10]"
   ]
  },
  {
   "cell_type": "code",
   "execution_count": 32,
   "metadata": {},
   "outputs": [],
   "source": [
    "predict_df = pd.read_json(\"../data/predict_b.jsonl\", lines = True)"
   ]
  },
  {
   "cell_type": "code",
   "execution_count": 16,
   "metadata": {},
   "outputs": [],
   "source": [
    "predict_df['title'] = predict_df.apply(lambda x: x['title'].replace(\" \", \"\"), axis = 1)\n",
    "predict_df['id'] = predict_df.apply(lambda x: str(x['id']), axis = 1)"
   ]
  },
  {
   "cell_type": "code",
   "execution_count": 33,
   "metadata": {},
   "outputs": [
    {
     "data": {
      "text/html": [
       "<div>\n",
       "<style scoped>\n",
       "    .dataframe tbody tr th:only-of-type {\n",
       "        vertical-align: middle;\n",
       "    }\n",
       "\n",
       "    .dataframe tbody tr th {\n",
       "        vertical-align: top;\n",
       "    }\n",
       "\n",
       "    .dataframe thead th {\n",
       "        text-align: right;\n",
       "    }\n",
       "</style>\n",
       "<table border=\"1\" class=\"dataframe\">\n",
       "  <thead>\n",
       "    <tr style=\"text-align: right;\">\n",
       "      <th></th>\n",
       "      <th>id</th>\n",
       "      <th>title</th>\n",
       "    </tr>\n",
       "  </thead>\n",
       "  <tbody>\n",
       "    <tr>\n",
       "      <th>0</th>\n",
       "      <td>21710</td>\n",
       "      <td>Anker推出真無線藍牙耳機 支援App設定手勢操作</td>\n",
       "    </tr>\n",
       "    <tr>\n",
       "      <th>1</th>\n",
       "      <td>21711</td>\n",
       "      <td>全台最熱門的鐵道自行車!\\n三條「最美C路線」讓女孩走訪苗栗</td>\n",
       "    </tr>\n",
       "    <tr>\n",
       "      <th>2</th>\n",
       "      <td>21712</td>\n",
       "      <td>華碩換上Intel第11代Core處理器的Chromebook Flip CX5 擴展企業應用需求</td>\n",
       "    </tr>\n",
       "    <tr>\n",
       "      <th>3</th>\n",
       "      <td>21713</td>\n",
       "      <td>理財我最大邀請工研院產科國際所長蘇孟宗 掌握今年產業發展重點</td>\n",
       "    </tr>\n",
       "    <tr>\n",
       "      <th>4</th>\n",
       "      <td>21714</td>\n",
       "      <td>Windows 7正式退出消費市場 市佔率恐落在20%上下</td>\n",
       "    </tr>\n",
       "    <tr>\n",
       "      <th>5</th>\n",
       "      <td>21715</td>\n",
       "      <td>台灣錢回流 投資什麼才好?</td>\n",
       "    </tr>\n",
       "    <tr>\n",
       "      <th>6</th>\n",
       "      <td>21716</td>\n",
       "      <td>美國網購平台上架「哈台馬克杯」 熱銷1萬件、亞馬遜買到缺貨</td>\n",
       "    </tr>\n",
       "    <tr>\n",
       "      <th>7</th>\n",
       "      <td>21717</td>\n",
       "      <td>華碩更新雙螢幕筆電、ZenBook Duo 14、Pro Duo 15OLED</td>\n",
       "    </tr>\n",
       "    <tr>\n",
       "      <th>8</th>\n",
       "      <td>21718</td>\n",
       "      <td>台灣首款炸物專門啤酒!臺虎推「周末炸雞俱樂部」</td>\n",
       "    </tr>\n",
       "    <tr>\n",
       "      <th>9</th>\n",
       "      <td>21719</td>\n",
       "      <td>NBA/沒爆彈要處理 紐媒爆料厄文不喜歡奈許</td>\n",
       "    </tr>\n",
       "  </tbody>\n",
       "</table>\n",
       "</div>"
      ],
      "text/plain": [
       "      id                                              title\n",
       "0  21710                         Anker推出真無線藍牙耳機 支援App設定手勢操作\n",
       "1  21711                     全台最熱門的鐵道自行車!\\n三條「最美C路線」讓女孩走訪苗栗\n",
       "2  21712  華碩換上Intel第11代Core處理器的Chromebook Flip CX5 擴展企業應用需求\n",
       "3  21713                     理財我最大邀請工研院產科國際所長蘇孟宗 掌握今年產業發展重點\n",
       "4  21714                      Windows 7正式退出消費市場 市佔率恐落在20%上下\n",
       "5  21715                                      台灣錢回流 投資什麼才好?\n",
       "6  21716                      美國網購平台上架「哈台馬克杯」 熱銷1萬件、亞馬遜買到缺貨\n",
       "7  21717            華碩更新雙螢幕筆電、ZenBook Duo 14、Pro Duo 15OLED\n",
       "8  21718                            台灣首款炸物專門啤酒!臺虎推「周末炸雞俱樂部」\n",
       "9  21719                             NBA/沒爆彈要處理 紐媒爆料厄文不喜歡奈許"
      ]
     },
     "execution_count": 33,
     "metadata": {},
     "output_type": "execute_result"
    }
   ],
   "source": [
    "predict_df[:10]"
   ]
  }
 ],
 "metadata": {
  "kernelspec": {
   "display_name": "ADL_hw1",
   "language": "python",
   "name": "python3"
  },
  "language_info": {
   "codemirror_mode": {
    "name": "ipython",
    "version": 3
   },
   "file_extension": ".py",
   "mimetype": "text/x-python",
   "name": "python",
   "nbconvert_exporter": "python",
   "pygments_lexer": "ipython3",
   "version": "3.9.18"
  }
 },
 "nbformat": 4,
 "nbformat_minor": 2
}
